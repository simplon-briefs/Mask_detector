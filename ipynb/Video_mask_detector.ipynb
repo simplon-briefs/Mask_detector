{
 "cells": [
  {
   "cell_type": "markdown",
   "metadata": {},
   "source": [
    "https://www.youtube.com/watch?v=70nZfwjYkpk"
   ]
  },
  {
   "cell_type": "code",
   "execution_count": 1,
   "metadata": {},
   "outputs": [],
   "source": [
    "import cv2\n",
    "from keras.models import load_model\n",
    "import numpy as np\n",
    "import playsound\n",
    "import time\n",
    "#import vlc\n",
    "from sklearn.metrics import accuracy_score"
   ]
  },
  {
   "cell_type": "code",
   "execution_count": 2,
   "metadata": {},
   "outputs": [],
   "source": [
    "try:\n",
    "    model = load_model(\"../model.h5\")\n",
    "except:\n",
    "    print(\"model non créé\")"
   ]
  },
  {
   "cell_type": "code",
   "execution_count": 3,
   "metadata": {},
   "outputs": [],
   "source": [
    "def detect_face_mask(img):\n",
    "    y_pred = model.predict_classes(img.reshape(1,224,224,3))\n",
    "    yy= model.predict(img.reshape(1,224,224,3))\n",
    "    return y_pred[0][0],yy\n",
    "\n",
    "\n",
    "def draw_label(img,text,pos,bg_color):\n",
    "    #text_size = cv2.getTextSize(text, cv2.FONT_HERSHEY_SIMPLEX,1,cv2.FILLED)\n",
    " \n",
    "    #end_X = pos[0] + text_size[0][0] + 2\n",
    "    #end_y = pos[1] + text_size[0][1] - 2\n",
    "    \n",
    "    cv2.rectangle(frame,(x,y),(x+w,y+h),(255,0,0),1)\n",
    "       \n",
    "    \n",
    "    cv2.putText(img,text,pos,cv2.FONT_HERSHEY_SIMPLEX,1,(0,0,0),1,cv2.LINE_AA)\n",
    "\n",
    "def song():\n",
    "    p = vlc.MediaPlayer(\"song/song.mp3\")\n",
    "    p.play()\n",
    "    time.sleep(1)\n",
    "    p.stop()\n",
    "\n",
    "haar = cv2.CascadeClassifier(\"C:/Users/utilisateur/Documents/microsoft_ia/Devoirs/Detecteur_des_masques/Mask_detector-main/ipynb/xml/haarcascade_frontalface_default.xml\")\n",
    "\n",
    "def detect_face(img):\n",
    "    \n",
    "    coods = haar.detectMultiScale(img)\n",
    "    return coods"
   ]
  },
  {
   "cell_type": "code",
   "execution_count": null,
   "metadata": {},
   "outputs": [],
   "source": [
    "cap = cv2.VideoCapture(0)"
   ]
  },
  {
   "cell_type": "code",
   "execution_count": null,
   "metadata": {},
   "outputs": [],
   "source": [
    "while True:\n",
    "    ret,frame = cap.read()\n",
    "    frame = cv2.resize(frame,(224,224))\n",
    "    coods = detect_face(cv2.cvtColor(frame,cv2.COLOR_BGR2GRAY))\n",
    "    y_pred , yy= detect_face_mask(frame)\n",
    "    yy = round(yy[0][0],3)\n",
    "    label = \"{}: {:.2f}%\".format(yy * 100)\n",
    "    for x,y,w,h in coods:\n",
    "        \n",
    "        draw_label(frame,str(yy), (x,y),(0,255,0))\n",
    "\n",
    "    print(y_pred)\n",
    "    print(yy)\n",
    "    \n",
    "    print(\"=================================\")\n",
    "    \n",
    "    if y_pred == 0:\n",
    "        image = cv2.imread(\"../image/no_fuck.png\")\n",
    "        image = cv2.putText(image, '', (50, 50), cv2.FONT_HERSHEY_SIMPLEX,  \n",
    "                        1, (255, 0, 0),2, cv2.LINE_AA)\n",
    "        cv2.imshow('emojie', image)\n",
    "        draw_label(frame,\"Mask\", (30,30),(0,255,0))\n",
    "        \n",
    "        \n",
    "    else:\n",
    "        \n",
    "        draw_label(frame,label, (x+1,y+1),(0,255,0))\n",
    "        \n",
    "        image = cv2.imread(\"../image/fuck.png\")\n",
    "        image = cv2.putText(image, '', (50, 50), cv2.FONT_HERSHEY_SIMPLEX,  \n",
    "                        1, (255, 0, 0),2, cv2.LINE_AA)\n",
    "        #song()\n",
    "        cv2.imshow('emojie', image)\n",
    "    \n",
    "    cv2.imshow(\"window\", frame)\n",
    "    \n",
    "    if cv2.waitKey(1) & 0xFF == ord('x'):\n",
    "        break\n",
    "cv2.destroyAllWindows()"
   ]
  },
  {
   "cell_type": "code",
   "execution_count": null,
   "metadata": {},
   "outputs": [],
   "source": []
  },
  {
   "cell_type": "code",
   "execution_count": null,
   "metadata": {},
   "outputs": [],
   "source": []
  },
  {
   "cell_type": "code",
   "execution_count": null,
   "metadata": {},
   "outputs": [],
   "source": []
  },
  {
   "cell_type": "code",
   "execution_count": null,
   "metadata": {},
   "outputs": [],
   "source": []
  }
 ],
 "metadata": {
  "kernelspec": {
   "display_name": "Python 3",
   "language": "python",
   "name": "python3"
  },
  "language_info": {
   "codemirror_mode": {
    "name": "ipython",
    "version": 3
   },
   "file_extension": ".py",
   "mimetype": "text/x-python",
   "name": "python",
   "nbconvert_exporter": "python",
   "pygments_lexer": "ipython3",
   "version": "3.8.3"
  }
 },
 "nbformat": 4,
 "nbformat_minor": 4
}
